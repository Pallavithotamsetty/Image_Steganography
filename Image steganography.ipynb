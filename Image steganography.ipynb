{
 "cells": [
  {
   "cell_type": "code",
   "execution_count": 3,
   "id": "45d281d7",
   "metadata": {},
   "outputs": [],
   "source": [
    "from base64 import urlsafe_b64encode\n",
    "from hashlib import md5\n",
    "from cryptography.fernet import Fernet\n"
   ]
  },
  {
   "cell_type": "code",
   "execution_count": 4,
   "id": "e356bb45",
   "metadata": {},
   "outputs": [],
   "source": [
    "from cv2 import imread,imwrite"
   ]
  },
  {
   "cell_type": "code",
   "execution_count": 5,
   "id": "ce5da8dd",
   "metadata": {},
   "outputs": [],
   "source": [
    "def encrypt_decrypt(string,password,mode='enc'):\n",
    "    _hash = md5(password.encode()).hexdigest() #get hash of password\n",
    "    cipher_key = urlsafe_b64encode(_hash.encode()) #use the hash as the key of encryption\n",
    "    cipher = Fernet(cipher_key) #get the cipher based on the cipher key\n",
    "    if mode == 'enc':\n",
    "        return cipher.encrypt(string.encode()).decode() #encrypt the data\n",
    "    else:\n",
    "        return cipher.decrypt(string.encode()).decode() #decrypt the data"
   ]
  },
  {
   "cell_type": "code",
   "execution_count": 6,
   "id": "7103fa9b",
   "metadata": {},
   "outputs": [],
   "source": [
    "def str2bin(string):\n",
    "    return ''.join((bin(ord(i))[2:]).zfill(8) for i in string)"
   ]
  },
  {
   "cell_type": "code",
   "execution_count": 7,
   "id": "a51d6f67",
   "metadata": {},
   "outputs": [],
   "source": [
    "class FileError(Exception):\n",
    "    pass\n",
    "\n",
    "class DataError(Exception):\n",
    "    pass\n",
    "\n",
    "class PasswordError(Exception):\n",
    "    pass"
   ]
  },
  {
   "cell_type": "code",
   "execution_count": 8,
   "id": "2ad07a24",
   "metadata": {},
   "outputs": [],
   "source": [
    "\n",
    "def encode(input_filepath,text,output_filepath,password=None):\n",
    "    if password != None:\n",
    "        data = encrypt_decrypt(text,password,'enc') #If password is provided, encrypt the data with given password\n",
    "    else:\n",
    "        data = text #else do not encrypt\n",
    "    data_length = bin(len(data))[2:].zfill(32) #get length of data to be encoded\n",
    "    bin_data = iter(data_length + str2bin(data)) #add length of data with actual data and get the binary form of whole thing\n",
    "    img = imread(input_filepath,1) #read the cover image\n",
    "    if img is None:\n",
    "        raise FileError(\"The image file '{}' is inaccessible\".format(input_filepath)) #if image is not accessible, raise an exception\n",
    "    height,width = img.shape[0],img.shape[1] #get height and width of cover image\n",
    "    encoding_capacity = height*width*3 #maximum number of bits of data that the cover image can hide\n",
    "    total_bits = 32+len(data)*8 #total bits in the data that needs to be hidden including 32 bits for specifying length of data\n",
    "    if total_bits > encoding_capacity:\n",
    "        raise DataError(\"The data size is too big to fit in this image!\") #if cover image can't hide all the data, raise DataError exception\n",
    "    completed = False\n",
    "    modified_bits = 0\n",
    "    \n",
    "    #Run 2 nested for loops to traverse all the pixels of the whole image in left to right, top to bottom fashion\n",
    "    for i in range(height):\n",
    "        for j in range(width):\n",
    "            pixel = img[i,j] #get the current pixel that is being traversed\n",
    "            for k in range(3): #get next 3 bits from the binary data that is to be encoded in image\n",
    "                try:\n",
    "                    x = next(bin_data)\n",
    "                except StopIteration: #if there is no data to encode, mark the encoding process as completed\n",
    "                    completed = True\n",
    "                    break\n",
    "                if x == '0' and pixel[k]%2==1: #if the bit to be encoded is '0' and the current LSB is '1'\n",
    "                    pixel[k] -= 1 #change LSB from 1 to 0\n",
    "                    modified_bits += 1 #increment the modified bits count\n",
    "                elif x=='1' and pixel[k]%2==0: #if the bit to be encoded is '1' and the current LSB is '0'\n",
    "                    pixel[k] += 1 #change LSB from 0 to 1\n",
    "                    modified_bits += 1 #increment the modified bits count\n",
    "            if completed:\n",
    "                break\n",
    "        if completed:\n",
    "            break\n",
    "\n",
    "    written = imwrite(output_filepath,img) #create a new image with the modified pixels\n",
    "    if not written:\n",
    "        raise FileError(\"Failed to write image '{}'\".format(output_filepath))\n",
    "    loss_percentage = (modified_bits/encoding_capacity)*100 #calculate how many bits of the original image are changed in order to encode the secret message and calculate the percentage of data loss from it\n",
    "    return loss_percentage\n"
   ]
  },
  {
   "cell_type": "code",
   "execution_count": 9,
   "id": "901f55b8",
   "metadata": {},
   "outputs": [],
   "source": [
    "def bin2str(string):\n",
    "    return ''.join(chr(int(string[i:i+8],2)) for i in range(len(string))[::8])"
   ]
  },
  {
   "cell_type": "code",
   "execution_count": 10,
   "id": "5576b605",
   "metadata": {},
   "outputs": [],
   "source": [
    "def decode(input_filepath,password=None):\n",
    "    result,extracted_bits,completed,number_of_bits = '',0,False,None\n",
    "    img = imread(input_filepath) #open the image\n",
    "    if img is None:\n",
    "        raise FileError(\"The image file '{}' is inaccessible\".format(input_filepath)) #if failed to open image, raise exception\n",
    "    height,width = img.shape[0],img.shape[1] #get the dimensions of the image\n",
    "    #Run 2 nested for loops to traverse all the pixels of the whole image in left to right, top to bottom fashion\n",
    "    for i in range(height):\n",
    "        for j in range(width):\n",
    "            for k in img[i,j]: #for values in pixel RGB tuple\n",
    "                result += str(k%2) #extract the LSB of RGB values of each pixel\n",
    "                extracted_bits += 1\n",
    "\n",
    "                if extracted_bits == 32 and number_of_bits == None: #If the first 32 bits are extracted, it is our data size. Now extract the original data\n",
    "                    number_of_bits = int(result,2)*8 #number of bits to extract from the image\n",
    "                    result = ''\n",
    "                    extracted_bits = 0\n",
    "                elif extracted_bits == number_of_bits: #if all required bits are extracted, mark the process as completed\n",
    "                    completed = True\n",
    "                    break\n",
    "            if completed:\n",
    "                break\n",
    "        if completed:\n",
    "            break\n",
    "    if password == None: #if the data doesn't need password to be unlocked, return the string representation of binary data\n",
    "        return bin2str(result)\n",
    "    else: #else, try to decrypt the data with the given password and then return the decrypted text\n",
    "        try:\n",
    "            return encrypt_decrypt(bin2str(result),password,'dec')\n",
    "        except:\n",
    "            raise PasswordError(\"Invalid password!\") #if password did not match"
   ]
  },
  {
   "cell_type": "code",
   "execution_count": 15,
   "id": "29a6984f",
   "metadata": {},
   "outputs": [
    {
     "name": "stdout",
     "output_type": "stream",
     "text": [
      "What do you want to do?\n",
      "\n",
      "1.Encrypt\n",
      "2.Decrypt\n",
      "\n",
      "Input(1/2): 2\n",
      "Enter image path: AQPJ2704.JPG\n",
      "Enter password: 121\n",
      "Error: Invalid password!\n"
     ]
    }
   ],
   "source": [
    "if __name__ == \"__main__\":\n",
    "\n",
    "    ch = int(input('What do you want to do?\\n\\n1.Encrypt\\n2.Decrypt\\n\\nInput(1/2): '))\n",
    "    if ch == 1:\n",
    "        ip_file = input('\\nEnter cover image name(path)(with extension): ')\n",
    "        text = input('Enter secret data: ')\n",
    "        pwd = input('Enter password: ')\n",
    "        op_file = input('Enter output image name(path)(with extension): ')\n",
    "        try:\n",
    "            loss = encode(ip_file,text,op_file,pwd)\n",
    "        except FileError as fe:\n",
    "            print(\"Error: {}\".format(fe))\n",
    "        except DataError as de:\n",
    "            print(\"Error: {}\".format(de))\n",
    "        else:\n",
    "            print('Encoded Successfully!\\nImage Data Loss = {:.5f}%'.format(loss))\n",
    "    elif ch == 2:\n",
    "        ip_file = input('Enter image path: ')\n",
    "        pwd = input('Enter password: ')\n",
    "        try:\n",
    "            data = decode(ip_file,pwd)\n",
    "        except FileError as fe:\n",
    "            print(\"Error: {}\".format(fe))\n",
    "        except PasswordError as pe:\n",
    "            print('Error: {}'.format(pe))\n",
    "        else:\n",
    "            print('Decrypted data:',data)\n",
    "    else:\n",
    "        print('Wrong Choice!')"
   ]
  },
  {
   "cell_type": "code",
   "execution_count": null,
   "id": "566efa83",
   "metadata": {},
   "outputs": [],
   "source": []
  }
 ],
 "metadata": {
  "kernelspec": {
   "display_name": "Python 3 (ipykernel)",
   "language": "python",
   "name": "python3"
  },
  "language_info": {
   "codemirror_mode": {
    "name": "ipython",
    "version": 3
   },
   "file_extension": ".py",
   "mimetype": "text/x-python",
   "name": "python",
   "nbconvert_exporter": "python",
   "pygments_lexer": "ipython3",
   "version": "3.9.12"
  }
 },
 "nbformat": 4,
 "nbformat_minor": 5
}
